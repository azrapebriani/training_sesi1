{
 "cells": [
  {
   "cell_type": "code",
   "execution_count": 2,
   "id": "0e197552-029d-4642-a53f-0737ca308526",
   "metadata": {},
   "outputs": [
    {
     "name": "stdout",
     "output_type": "stream",
     "text": [
      "a lebih dari 17 tahun\n"
     ]
    }
   ],
   "source": [
    "umur_a = 15\n",
    "if umur_a < 17:\n",
    "    print(\"a lebih kecil dari 17 tahun\") #hanya jln jika True"
   ]
  },
  {
   "cell_type": "markdown",
   "id": "f9336f93-5ba1-4006-b8cc-0d0f7cec5244",
   "metadata": {},
   "source": [
    "## truthy vs falsy\n",
    "\n",
    "truthy : semua yg bukan falsy itu dianggap true\n",
    "\n",
    "falsy :\n",
    "- angka 0 (float, int)\n",
    "- string \"\" (text tp tdk ada karaktermya sama sekali, length 0)\n",
    "- boolean False"
   ]
  },
  {
   "cell_type": "code",
   "execution_count": 5,
   "id": "e2eeefca-1ba3-4769-a90b-c4450ff1a502",
   "metadata": {},
   "outputs": [
    {
     "name": "stdout",
     "output_type": "stream",
     "text": [
      "yes, 12 > 5\n",
      "x dianggap true\n"
     ]
    }
   ],
   "source": [
    "x = 12\n",
    "y = 0\n",
    "\n",
    "if x > y:\n",
    "    print(\"yes, 12 > 5\")\n",
    "    \n",
    "if y:\n",
    "    print(\"y dianggap true\")\n",
    "    \n",
    "if x:\n",
    "    print(\"x dianggap true\")"
   ]
  },
  {
   "cell_type": "code",
   "execution_count": 6,
   "id": "59a88355-748a-4605-bbbb-f0ec578b3e2f",
   "metadata": {},
   "outputs": [
    {
     "name": "stdout",
     "output_type": "stream",
     "text": [
      "ada hack di hacktiv8\n"
     ]
    }
   ],
   "source": [
    "if 'hack' in 'hacktiv8':\n",
    "    print(\"ada hack di hacktiv8\")"
   ]
  },
  {
   "cell_type": "code",
   "execution_count": 7,
   "id": "365a891c-18f7-4b61-b6bf-b0497a200911",
   "metadata": {},
   "outputs": [
    {
     "name": "stdout",
     "output_type": "stream",
     "text": [
      "ada ault di grault\n"
     ]
    }
   ],
   "source": [
    "a = 'aul'\n",
    "b = 'grault'\n",
    "\n",
    "if a in b:\n",
    "    print(\"ada ault di grault\")"
   ]
  },
  {
   "cell_type": "code",
   "execution_count": 8,
   "id": "5d5c4211-5aed-4197-acbe-e2712404aa05",
   "metadata": {},
   "outputs": [
    {
     "name": "stdout",
     "output_type": "stream",
     "text": [
      "ada 100 di list ini\n"
     ]
    }
   ],
   "source": [
    "if 100 in [100,50,90]:\n",
    "    print(\"ada 100 di list ini\")"
   ]
  },
  {
   "cell_type": "code",
   "execution_count": 10,
   "id": "5ad9a252-9b92-4264-a7b4-363a02439234",
   "metadata": {},
   "outputs": [
    {
     "name": "stdout",
     "output_type": "stream",
     "text": [
      "keluar rumah\n",
      "belanja\n",
      "olahraga\n"
     ]
    }
   ],
   "source": [
    "cuaca_cerah = True\n",
    "\n",
    "if cuaca_cerah:\n",
    "    print(\"keluar rumah\")\n",
    "    print(\"belanja\")\n",
    "    print(\"olahraga\")"
   ]
  },
  {
   "cell_type": "code",
   "execution_count": 15,
   "id": "525b79f7-caa2-4f34-8841-ec9253462f1f",
   "metadata": {},
   "outputs": [
    {
     "name": "stdout",
     "output_type": "stream",
     "text": [
      "blm cukup umur\n",
      "selesai pengecekan\n"
     ]
    }
   ],
   "source": [
    "# nested if, if dlm if\n",
    "# ana umur 17, blm vaksin, tdk punya penyakit\n",
    "\n",
    "umur = 15\n",
    "sudah_vaksin = True\n",
    "punya_sakit = False\n",
    "\n",
    "if umur >= 17:\n",
    "    if sudah_vaksin:\n",
    "        print(\"lanjut vaksin ke 2\")\n",
    "    else:\n",
    "        print(\"vaksin pertama\")\n",
    "    if punya_sakit:\n",
    "        print(\"tdk boleh vaksin krn sedang sakit\")\n",
    "    else:\n",
    "        print(\"boleh vaksin\")\n",
    "else:\n",
    "    print(\"blm cukup umur\")\n",
    "\n",
    "print(\"selesai pengecekan\")"
   ]
  },
  {
   "cell_type": "code",
   "execution_count": 19,
   "id": "1744f7fa-9cce-43bc-8c55-5f387b7cb4e0",
   "metadata": {},
   "outputs": [
    {
     "name": "stdout",
     "output_type": "stream",
     "text": [
      "dapat B\n"
     ]
    }
   ],
   "source": [
    "nilai = 80\n",
    "\n",
    "if nilai > 100:\n",
    "    print(\"salah input nilai\")\n",
    "elif nilai > 80:\n",
    "    print(\"dapat A\")\n",
    "elif nilai > 60:\n",
    "    print(\"dapat B\")\n",
    "elif nilai > 40:\n",
    "    print(\"dapat C\")\n",
    "elif nilai > 20:\n",
    "    print(\"dapat D\")\n",
    "else:\n",
    "    print(\"dapat F\")"
   ]
  },
  {
   "cell_type": "code",
   "execution_count": 20,
   "id": "607d7f82-e626-4f62-a56e-233a33fc50be",
   "metadata": {},
   "outputs": [
    {
     "name": "stdout",
     "output_type": "stream",
     "text": [
      "yes, 12 > 5\n",
      "yes, 12 > 5\n"
     ]
    }
   ],
   "source": [
    "x = 12\n",
    "y = 0\n",
    "\n",
    "if x > y:\n",
    "    print(\"yes, 12 > 5\")\n",
    "\n",
    "if x > y: print(\"yes, 12 > 5\")"
   ]
  },
  {
   "cell_type": "code",
   "execution_count": 23,
   "id": "f4a314c7-6de7-491c-9d3f-0a11ffb4248c",
   "metadata": {},
   "outputs": [
    {
     "name": "stdout",
     "output_type": "stream",
     "text": [
      "x\n",
      "lebih besar\n",
      "dari y\n",
      "x\n",
      "lebih besar\n",
      "dari y\n"
     ]
    }
   ],
   "source": [
    "if x > y:\n",
    "    print(\"x\")\n",
    "    print(\"lebih besar\")\n",
    "    print(\"dari y\")\n",
    "    \n",
    "if x > y: print(\"x\"); print(\"lebih besar\"); print(\"dari y\")"
   ]
  },
  {
   "cell_type": "markdown",
   "id": "56d38f55-30c7-4ff5-aee1-85df212acba8",
   "metadata": {},
   "source": [
    "## ternary operator\n",
    "\n",
    "(kalau true) if (pertanyaan) else (kalau false)"
   ]
  },
  {
   "cell_type": "code",
   "execution_count": 24,
   "id": "201a9b17-8f9d-43dc-ae19-24bd1ec74e3b",
   "metadata": {},
   "outputs": [
    {
     "name": "stdout",
     "output_type": "stream",
     "text": [
      "lebih besar\n"
     ]
    }
   ],
   "source": [
    "x = 20\n",
    "y = 15\n",
    "\n",
    "print(\"x lebih kecil dari y\") if x < y else print(\"lebih besar\")"
   ]
  },
  {
   "cell_type": "code",
   "execution_count": 26,
   "id": "c045a0e1-f4f3-4422-9dfe-b2600db03bd2",
   "metadata": {},
   "outputs": [
    {
     "name": "stdout",
     "output_type": "stream",
     "text": [
      "yang lebih besar adalah y\n"
     ]
    }
   ],
   "source": [
    "x = 10\n",
    "y = 15\n",
    "\n",
    "print(\"yang lebih besar adalah\", \"x\" if x > y else \"y\")"
   ]
  },
  {
   "cell_type": "markdown",
   "id": "ae7169be-10bd-40e2-966d-92934ff3f1ee",
   "metadata": {},
   "source": [
    "## pass statement"
   ]
  },
  {
   "cell_type": "code",
   "execution_count": 28,
   "id": "b4694be6-7459-4127-85fc-fa75144e1b0d",
   "metadata": {},
   "outputs": [],
   "source": [
    "if x > y:\n",
    "    pass\n",
    "elif x == y:\n",
    "    pass\n",
    "else:\n",
    "    pass"
   ]
  },
  {
   "cell_type": "markdown",
   "id": "1ab5ea1d-a414-4717-8c18-452ba0a735d4",
   "metadata": {},
   "source": [
    "## While Loop\n",
    "selama kondisi masih True, statement nya diulang"
   ]
  },
  {
   "cell_type": "code",
   "execution_count": 29,
   "id": "716f48e5-8004-49b4-9d84-2c797e934f67",
   "metadata": {},
   "outputs": [
    {
     "name": "stdout",
     "output_type": "stream",
     "text": [
      "jemur baju\n"
     ]
    }
   ],
   "source": [
    "cuaca_cerah = True\n",
    "\n",
    "if cuaca_cerah:\n",
    "    print(\"jemur baju\")"
   ]
  },
  {
   "cell_type": "code",
   "execution_count": 30,
   "id": "36cf79d7-c8b2-45e2-906e-be9bd1c1fbd2",
   "metadata": {},
   "outputs": [
    {
     "name": "stdout",
     "output_type": "stream",
     "text": [
      "jemur baju\n"
     ]
    }
   ],
   "source": [
    "while cuaca_cerah:\n",
    "    print(\"jemur baju\")\n",
    "    cuaca_cerah = False"
   ]
  },
  {
   "cell_type": "code",
   "execution_count": 31,
   "id": "f59ad2ef-39bc-46eb-a6b7-6516374147a9",
   "metadata": {},
   "outputs": [
    {
     "name": "stdout",
     "output_type": "stream",
     "text": [
      "ikut kelas 0\n",
      "ikut kelas 1\n",
      "ikut kelas 2\n",
      "ikut kelas 3\n",
      "ikut kelas 4\n",
      "ikut kelas 5\n",
      "ikut kelas 6\n",
      "ikut kelas 7\n",
      "ikut kelas 8\n",
      "ikut kelas 9\n",
      "ikut kelas 10\n",
      "ikut kelas 11\n",
      "ikut kelas 12\n",
      "ikut kelas 13\n",
      "ikut kelas 14\n",
      "ikut kelas 15\n",
      "diluar while loop\n"
     ]
    }
   ],
   "source": [
    "counter = 0\n",
    "\n",
    "while counter < 16:\n",
    "    print(\"ikut kelas\", counter)\n",
    "#     counter = counter + 1\n",
    "    counter += 1\n",
    "    \n",
    "print(\"diluar while loop\")"
   ]
  },
  {
   "cell_type": "code",
   "execution_count": 34,
   "id": "fa4b4fdd-82fc-4557-887e-75a87ebab796",
   "metadata": {},
   "outputs": [
    {
     "name": "stdout",
     "output_type": "stream",
     "text": [
      "\n",
      "*\n",
      "**\n",
      "***\n",
      "****\n",
      "*****\n",
      "******\n"
     ]
    }
   ],
   "source": [
    "counter = 0\n",
    "\n",
    "while counter < 7:\n",
    "    print(\"*\" * counter)\n",
    "#     counter = counter + 1\n",
    "    counter += 1"
   ]
  },
  {
   "cell_type": "markdown",
   "id": "a8b853d4-cd9a-4416-bbaa-49c754b032a1",
   "metadata": {},
   "source": [
    "## break and continue"
   ]
  },
  {
   "cell_type": "code",
   "execution_count": 41,
   "id": "f2576952-a3d3-439c-bf0a-82c3c6059280",
   "metadata": {},
   "outputs": [
    {
     "name": "stdout",
     "output_type": "stream",
     "text": [
      "ikut kelas 1\n",
      "ikut kelas 2\n",
      "ikut kelas 3\n",
      "ikut kelas 4\n",
      "ikut kelas 5\n",
      "ikut kelas 6\n",
      "ikut kelas 7\n",
      "selesai\n"
     ]
    }
   ],
   "source": [
    "counter = 0\n",
    "cuti = 8\n",
    "\n",
    "while counter < 16:\n",
    "    counter += 1\n",
    "    if counter == cuti:\n",
    "        break;\n",
    "    print(\"ikut kelas\", counter)\n",
    "else:\n",
    "    print(\"tdk ikut kelas lagi\")\n",
    "    \n",
    "print(\"selesai\")"
   ]
  },
  {
   "cell_type": "code",
   "execution_count": 42,
   "id": "9a2da3f3-43e0-4b61-ac74-92502f228e60",
   "metadata": {},
   "outputs": [
    {
     "name": "stdout",
     "output_type": "stream",
     "text": [
      "ikut kelas 1\n",
      "ikut kelas 2\n",
      "ikut kelas 3\n",
      "ikut kelas 4\n",
      "ikut kelas 5\n",
      "ikut kelas 6\n",
      "ikut kelas 7\n",
      "ikut kelas 9\n",
      "ikut kelas 10\n",
      "ikut kelas 11\n",
      "ikut kelas 12\n",
      "ikut kelas 13\n",
      "ikut kelas 14\n",
      "ikut kelas 15\n",
      "ikut kelas 16\n",
      "tdk ikut kelas\n",
      "selesai\n"
     ]
    }
   ],
   "source": [
    "counter = 0\n",
    "skip = 8\n",
    "\n",
    "while counter < 16:\n",
    "    counter += 1\n",
    "    if counter == skip:\n",
    "        continue; #skip 1 kelas \n",
    "    print(\"ikut kelas\", counter)\n",
    "else:\n",
    "    print(\"tdk ikut kelas\")\n",
    "    \n",
    "print(\"selesai\")"
   ]
  },
  {
   "cell_type": "markdown",
   "id": "6d3884d7-7672-4f2b-8301-2abb8eeeadc7",
   "metadata": {},
   "source": [
    "## nested while loop"
   ]
  },
  {
   "cell_type": "code",
   "execution_count": 48,
   "id": "6f11095e-b14b-485a-b7e0-49a990b8bfb9",
   "metadata": {},
   "outputs": [
    {
     "name": "stdout",
     "output_type": "stream",
     "text": [
      "counter =  0 , counter < a\n",
      "c =  1 , c < b\n",
      "c =  2 , c < b\n",
      "counter =  1 , counter < a\n",
      "c =  1 , c < b\n",
      "c =  2 , c < b\n",
      "counter =  2 , counter < a\n",
      "c =  1 , c < b\n",
      "c =  2 , c < b\n",
      "counter =  3 , counter < a\n",
      "c =  1 , c < b\n",
      "c =  2 , c < b\n",
      "counter =  4 , counter < a\n",
      "c =  1 , c < b\n",
      "c =  2 , c < b\n"
     ]
    }
   ],
   "source": [
    "a = 5\n",
    "b = 3\n",
    "\n",
    "counter = 0\n",
    "while counter < a:\n",
    "    print('counter = ', counter, ', counter < a')\n",
    "    \n",
    "    c = 1\n",
    "    while c < b:\n",
    "        print('c = ', c, ', c < b')\n",
    "        c +=1\n",
    "        \n",
    "    counter += 1"
   ]
  },
  {
   "cell_type": "markdown",
   "id": "73cf0c16-97cb-468f-ad79-6572237eb0a6",
   "metadata": {},
   "source": [
    "## one-line while loop"
   ]
  },
  {
   "cell_type": "code",
   "execution_count": 50,
   "id": "4ad81d88-e923-4c16-92ba-056cbbe821db",
   "metadata": {},
   "outputs": [
    {
     "name": "stdout",
     "output_type": "stream",
     "text": [
      "10\n",
      "9\n",
      "8\n",
      "7\n",
      "6\n",
      "5\n",
      "4\n",
      "3\n",
      "2\n",
      "1\n",
      "0\n"
     ]
    }
   ],
   "source": [
    "n = 10\n",
    "while n >= 0: \n",
    "    print(n) \n",
    "    n -= 1"
   ]
  },
  {
   "cell_type": "code",
   "execution_count": 51,
   "id": "8651dbda-b470-4e1b-aacc-2515d32a9676",
   "metadata": {},
   "outputs": [
    {
     "name": "stdout",
     "output_type": "stream",
     "text": [
      "10\n",
      "9\n",
      "8\n",
      "7\n",
      "6\n",
      "5\n",
      "4\n",
      "3\n",
      "2\n",
      "1\n",
      "0\n"
     ]
    }
   ],
   "source": [
    "n = 10\n",
    "while n >= 0: print(n); n -= 1"
   ]
  },
  {
   "cell_type": "markdown",
   "id": "86c7cadf-7421-4d31-9306-af1102cbc2e7",
   "metadata": {},
   "source": [
    "## For Loop (collection based)\n",
    "for item in collection"
   ]
  },
  {
   "cell_type": "code",
   "execution_count": 52,
   "id": "9709866a-828e-4ea9-9890-44d8d2285a18",
   "metadata": {},
   "outputs": [
    {
     "name": "stdout",
     "output_type": "stream",
     "text": [
      "50\n",
      "90\n",
      "70\n",
      "54\n",
      "65\n"
     ]
    }
   ],
   "source": [
    "nilai = [50,90,70,54,65]\n",
    "for n in nilai:\n",
    "    print(n)"
   ]
  },
  {
   "cell_type": "code",
   "execution_count": 54,
   "id": "7cbccc09-6219-439a-a790-ea9b4fdac3aa",
   "metadata": {},
   "outputs": [
    {
     "name": "stdout",
     "output_type": "stream",
     "text": [
      "nama\n",
      "berat (gr)\n",
      "warna\n"
     ]
    }
   ],
   "source": [
    "buah = {\n",
    "    'nama' : 'apel',\n",
    "    'berat (gr)' : 200,\n",
    "    'warna' : 'merah'\n",
    "}\n",
    "for deskripsi_buah in buah:\n",
    "    print(n)"
   ]
  },
  {
   "cell_type": "code",
   "execution_count": 55,
   "id": "9cc081aa-74ff-4a24-b595-079206c75cf7",
   "metadata": {},
   "outputs": [
    {
     "data": {
      "text/plain": [
       "dict_items([('nama', 'apel'), ('berat (gr)', 200), ('warna', 'merah')])"
      ]
     },
     "execution_count": 55,
     "metadata": {},
     "output_type": "execute_result"
    }
   ],
   "source": [
    "for item in buah.items():\n",
    "    print(item)"
   ]
  },
  {
   "cell_type": "code",
   "execution_count": 56,
   "id": "8a63fcf1-43a4-42ca-9abb-c2a9df9ae956",
   "metadata": {},
   "outputs": [
    {
     "data": {
      "text/plain": [
       "dict_values(['apel', 200, 'merah'])"
      ]
     },
     "execution_count": 56,
     "metadata": {},
     "output_type": "execute_result"
    }
   ],
   "source": [
    "for value in buah.values():\n",
    "    print(value)"
   ]
  },
  {
   "cell_type": "code",
   "execution_count": 65,
   "id": "349071aa-3487-4703-89b4-e452e6b755a1",
   "metadata": {},
   "outputs": [
    {
     "name": "stdout",
     "output_type": "stream",
     "text": [
      "nama\n",
      "berat (gr)\n",
      "warna\n"
     ]
    }
   ],
   "source": [
    "for key in buah.keys():\n",
    "    print(key)"
   ]
  },
  {
   "cell_type": "code",
   "execution_count": 63,
   "id": "232ede5a-25b0-4e45-95f4-0ff079f35b0a",
   "metadata": {},
   "outputs": [
    {
     "name": "stdout",
     "output_type": "stream",
     "text": [
      "0\n",
      "1\n",
      "2\n",
      "3\n",
      "4\n",
      "5\n",
      "6\n",
      "7\n",
      "8\n",
      "9\n"
     ]
    }
   ],
   "source": [
    "for i in range(10):\n",
    "    print(i)"
   ]
  },
  {
   "cell_type": "code",
   "execution_count": null,
   "id": "71e94c4e-7ad3-4adb-979f-661b7dc5397f",
   "metadata": {},
   "outputs": [],
   "source": []
  }
 ],
 "metadata": {
  "kernelspec": {
   "display_name": "Python 3",
   "language": "python",
   "name": "python3"
  },
  "language_info": {
   "codemirror_mode": {
    "name": "ipython",
    "version": 3
   },
   "file_extension": ".py",
   "mimetype": "text/x-python",
   "name": "python",
   "nbconvert_exporter": "python",
   "pygments_lexer": "ipython3",
   "version": "3.8.8"
  }
 },
 "nbformat": 4,
 "nbformat_minor": 5
}
