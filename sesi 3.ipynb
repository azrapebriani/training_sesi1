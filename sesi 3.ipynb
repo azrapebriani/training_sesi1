{
 "cells": [
  {
   "cell_type": "markdown",
   "id": "6b8a4233-e47b-44ab-8db4-11195404d098",
   "metadata": {},
   "source": [
    "## Function, Module, Package"
   ]
  },
  {
   "cell_type": "code",
   "execution_count": null,
   "id": "6b09b153-9ddb-4395-8279-613379e29afe",
   "metadata": {},
   "outputs": [],
   "source": [
    "def menyapa():\n",
    "    while True:\n",
    "        message = input(\"Ketik karakter: \").lower()\n",
    "        print(message)\n",
    "        if (message == 'stop'):\n",
    "            break;"
   ]
  },
  {
   "cell_type": "code",
   "execution_count": 3,
   "id": "3168febc-331e-473d-80cb-42455f172c3a",
   "metadata": {},
   "outputs": [
    {
     "name": "stdin",
     "output_type": "stream",
     "text": [
      "Ketik karakter:  a\n"
     ]
    },
    {
     "name": "stdout",
     "output_type": "stream",
     "text": [
      "a\n"
     ]
    },
    {
     "name": "stdin",
     "output_type": "stream",
     "text": [
      "Ketik karakter:  s\n"
     ]
    },
    {
     "name": "stdout",
     "output_type": "stream",
     "text": [
      "s\n"
     ]
    },
    {
     "name": "stdin",
     "output_type": "stream",
     "text": [
      "Ketik karakter:  stop\n"
     ]
    },
    {
     "name": "stdout",
     "output_type": "stream",
     "text": [
      "stop\n"
     ]
    }
   ],
   "source": [
    "menyapa()"
   ]
  },
  {
   "cell_type": "code",
   "execution_count": null,
   "id": "389e1a40-48bc-4b78-8c67-734dcee94aaa",
   "metadata": {},
   "outputs": [],
   "source": [
    "def menyapaNama(nama):\n",
    "    while True:\n",
    "        message = input(\"Ketik karakter: \").lower()\n",
    "        print(message,nama)\n",
    "        if (message == 'stop'):\n",
    "            break;"
   ]
  },
  {
   "cell_type": "code",
   "execution_count": null,
   "id": "92536598-8ebb-41dd-937c-8454bed264a3",
   "metadata": {},
   "outputs": [],
   "source": [
    "menyapaNama(\"andhika\")"
   ]
  },
  {
   "cell_type": "code",
   "execution_count": null,
   "id": "c02072bf-c390-4579-b651-f6ade0e3df27",
   "metadata": {},
   "outputs": [],
   "source": [
    "def hello(nama,waktu):\n",
    "    print(\"selamat \",waktu,nama)"
   ]
  },
  {
   "cell_type": "markdown",
   "id": "127695b8-989d-4238-b230-25bb91736b66",
   "metadata": {},
   "source": [
    "### return di sebuah function"
   ]
  },
  {
   "cell_type": "code",
   "execution_count": null,
   "id": "4405ae61-c3cb-4fb7-9142-b778e9237709",
   "metadata": {},
   "outputs": [],
   "source": [
    "hasil = hello(\"adi\",\"sore\")\n",
    "print(hasil) #selamat sore adi"
   ]
  },
  {
   "cell_type": "code",
   "execution_count": null,
   "id": "27c21def-665a-419a-9e52-89ccda75ae54",
   "metadata": {},
   "outputs": [],
   "source": [
    "def cekGanjilGenap(num):\n",
    "    if (num % 2 == 0):\n",
    "        print(\"genap\")\n",
    "    else:\n",
    "        print(\"ganjil\")"
   ]
  },
  {
   "cell_type": "code",
   "execution_count": null,
   "id": "f71cce2f-2a0f-405d-868d-96db6cf85749",
   "metadata": {},
   "outputs": [],
   "source": [
    "print(cekGanjilGenap(21))"
   ]
  },
  {
   "cell_type": "code",
   "execution_count": null,
   "id": "901e9050-c4f1-4fa9-8b0a-12c17a562596",
   "metadata": {},
   "outputs": [],
   "source": []
  }
 ],
 "metadata": {
  "kernelspec": {
   "display_name": "Python 3",
   "language": "python",
   "name": "python3"
  },
  "language_info": {
   "codemirror_mode": {
    "name": "ipython",
    "version": 3
   },
   "file_extension": ".py",
   "mimetype": "text/x-python",
   "name": "python",
   "nbconvert_exporter": "python",
   "pygments_lexer": "ipython3",
   "version": "3.8.8"
  }
 },
 "nbformat": 4,
 "nbformat_minor": 5
}
