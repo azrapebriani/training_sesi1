{
 "cells": [
  {
   "cell_type": "markdown",
   "id": "fef6f692-9e4e-4da6-88da-f4e83cac4a96",
   "metadata": {},
   "source": [
    "## Pembuatan Variable"
   ]
  },
  {
   "cell_type": "code",
   "execution_count": 2,
   "id": "8f8169d7-a419-4c2c-8f1b-63c983405d8a",
   "metadata": {},
   "outputs": [
    {
     "name": "stdout",
     "output_type": "stream",
     "text": [
      "Hacktiv8 phyton's first class..\n"
     ]
    }
   ],
   "source": [
    "message = \"Hacktiv8 phyton's first class..\"\n",
    "sesi = 1\n",
    "kelas = \"Phyton 061\"\n",
    "\n",
    "print(message)"
   ]
  },
  {
   "cell_type": "code",
   "execution_count": 3,
   "id": "0f2ada15-01d2-4599-b6ab-283226ab4a73",
   "metadata": {},
   "outputs": [
    {
     "name": "stdout",
     "output_type": "stream",
     "text": [
      "1\n"
     ]
    }
   ],
   "source": [
    "print(sesi)"
   ]
  },
  {
   "cell_type": "code",
   "execution_count": 4,
   "id": "ae8f05d7-3fae-4a82-a038-d7d5bfaf412e",
   "metadata": {},
   "outputs": [
    {
     "name": "stdout",
     "output_type": "stream",
     "text": [
      "2\n"
     ]
    }
   ],
   "source": [
    "sesi = sesi + 1\n",
    "print(sesi)"
   ]
  },
  {
   "cell_type": "markdown",
   "id": "6b64013e-ba2a-431a-92bd-03656996a310",
   "metadata": {},
   "source": [
    "a = b = c = 102\n",
    "print(a)\n",
    "print(b)\n",
    "print(c)"
   ]
  },
  {
   "cell_type": "code",
   "execution_count": 6,
   "id": "2d8688d5-8400-42e4-93b1-97a77fb29a33",
   "metadata": {},
   "outputs": [
    {
     "name": "stdout",
     "output_type": "stream",
     "text": [
      "Hacktiv8 phyton's first class.. 2 Phyton 061 102 102 102\n"
     ]
    }
   ],
   "source": [
    "print(message, sesi, kelas, a, b, c)"
   ]
  },
  {
   "cell_type": "code",
   "execution_count": 7,
   "id": "28745015-4730-4bf7-bd55-38b6781a1791",
   "metadata": {},
   "outputs": [
    {
     "name": "stdout",
     "output_type": "stream",
     "text": [
      "halo\n"
     ]
    }
   ],
   "source": [
    "a = \"halo\"\n",
    "print(a)"
   ]
  },
  {
   "cell_type": "markdown",
   "id": "1cfc6a84-5b3a-47ed-a31e-544f5a775c9a",
   "metadata": {},
   "source": [
    "# cara menamai variable\n",
    "- snake_case untuk menamai variable (huruf kecil semua, spasi diganti dengan \" _ \")\n",
    "- camelCase untuk menamai functions (huruf kecil semua, kecuali kata berikutnya huruf pertama dibuat kapital, tanpa spasi)\n",
    "- PascalCase (setiap kata huruf pertama kapital, tanpa spasi)"
   ]
  },
  {
   "cell_type": "markdown",
   "id": "8efb5f01-f452-4fcb-a3a3-ae6b79764749",
   "metadata": {},
   "source": [
    "# operator matematika ( + - * / % **)\n",
    "\n",
    "# operator komparasi\n",
    "( == )\n",
    "( != )\n",
    "( <= )\n",
    "( >= )"
   ]
  },
  {
   "cell_type": "code",
   "execution_count": 8,
   "id": "a6ee66f0-4d6a-45a1-95fe-823babc570a2",
   "metadata": {},
   "outputs": [
    {
     "name": "stdout",
     "output_type": "stream",
     "text": [
      "30\n"
     ]
    }
   ],
   "source": [
    "a = 10\n",
    "b = 20\n",
    "c = a + b\n",
    "\n",
    "print(c)"
   ]
  },
  {
   "cell_type": "code",
   "execution_count": 9,
   "id": "7ceaa889-7524-47bd-bc01-6bf36e7d699b",
   "metadata": {},
   "outputs": [
    {
     "name": "stdout",
     "output_type": "stream",
     "text": [
      "30\n",
      "-10\n",
      "200\n",
      "0.5\n"
     ]
    }
   ],
   "source": [
    "print(a + b)\n",
    "print(a - b)\n",
    "print(a * b)\n",
    "print(a / b)"
   ]
  },
  {
   "cell_type": "code",
   "execution_count": 11,
   "id": "b285f0d0-56fc-4357-a884-508f51ef7072",
   "metadata": {},
   "outputs": [
    {
     "name": "stdout",
     "output_type": "stream",
     "text": [
      "halo 100\n",
      "Hacktiv8\n"
     ]
    }
   ],
   "source": [
    "s = \"halo \"\n",
    "num = 100\n",
    "print(s + str(num))\n",
    "print(\"Hacktiv\" + str(8))"
   ]
  },
  {
   "cell_type": "markdown",
   "id": "78aaaacb-4d4f-4f95-b402-f20ba4154b04",
   "metadata": {},
   "source": [
    "# expression in string"
   ]
  },
  {
   "cell_type": "code",
   "execution_count": 15,
   "id": "139c548c-155e-465a-91d9-7057fd824d8b",
   "metadata": {},
   "outputs": [
    {
     "name": "stdout",
     "output_type": "stream",
     "text": [
      "halo halo bandung\n"
     ]
    }
   ],
   "source": [
    "s = \"halo \"\n",
    "b = \"bandung\"\n",
    "message = s * 2 + b\n",
    "print(message)"
   ]
  },
  {
   "cell_type": "code",
   "execution_count": 16,
   "id": "a1c061c8-44be-495b-8349-071ca48cd427",
   "metadata": {},
   "outputs": [
    {
     "name": "stdout",
     "output_type": "stream",
     "text": [
      "True\n",
      "True\n",
      "True\n"
     ]
    }
   ],
   "source": [
    "print(\"bandung\" in \"halo halo bandung\")\n",
    "print(\"bandung\" in message)\n",
    "print(b in message)"
   ]
  },
  {
   "cell_type": "markdown",
   "id": "9cbc9d9d-c47b-4252-b9c3-663a3c79f1d7",
   "metadata": {},
   "source": [
    "## built-in function milik string"
   ]
  },
  {
   "cell_type": "code",
   "execution_count": 19,
   "id": "adbbafb1-3327-4b81-ab5d-e2af2c216a63",
   "metadata": {},
   "outputs": [
    {
     "name": "stdout",
     "output_type": "stream",
     "text": [
      "Halo halo bandung 123\n",
      "halo halo bandung 123\n",
      "HALO HALO BANDUNG 123\n",
      "HALO halo bANDUNG 123\n",
      "Halo Halo Bandung 123\n"
     ]
    }
   ],
   "source": [
    "message = \"halo HALO Bandung 123\"\n",
    "\n",
    "print(message.capitalize())\n",
    "print(message.lower())\n",
    "print(message.upper())\n",
    "print(message.swapcase())\n",
    "print(message.title())"
   ]
  },
  {
   "cell_type": "markdown",
   "id": "83071e82-01b2-4ec1-909b-e1857e810d32",
   "metadata": {},
   "source": [
    "## Tipe data list"
   ]
  },
  {
   "cell_type": "code",
   "execution_count": 21,
   "id": "0da0f874-b9b4-4898-8e39-cce54a905f8b",
   "metadata": {},
   "outputs": [
    {
     "name": "stdout",
     "output_type": "stream",
     "text": [
      "['budi', 'adi', 'cindy']\n",
      "adi\n"
     ]
    }
   ],
   "source": [
    "antrian_indomaret = [\"budi\",\"adi\",\"cindy\"]\n",
    "print(antrian_indomaret)\n",
    "print(antrian_indomaret[1])"
   ]
  },
  {
   "cell_type": "code",
   "execution_count": 22,
   "id": "96b5fd09-e72e-4e5d-adde-445aa4f34a20",
   "metadata": {},
   "outputs": [
    {
     "name": "stdout",
     "output_type": "stream",
     "text": [
      "False\n"
     ]
    }
   ],
   "source": [
    "antrian_indomaret2 = [\"budi\",\"adi\",\"cindy\",\"ana\"]\n",
    "print(antrian_indomaret == antrian_indomaret2)"
   ]
  },
  {
   "cell_type": "code",
   "execution_count": 23,
   "id": "f0f79951-34a0-47cf-9813-4c8d39c46764",
   "metadata": {},
   "outputs": [
    {
     "name": "stdout",
     "output_type": "stream",
     "text": [
      "cindy\n"
     ]
    }
   ],
   "source": [
    "print(antrian_indomaret[-1])"
   ]
  },
  {
   "cell_type": "code",
   "execution_count": 26,
   "id": "f27d7514-9138-46d5-a72a-8b5a46d24fd8",
   "metadata": {},
   "outputs": [
    {
     "name": "stdout",
     "output_type": "stream",
     "text": [
      "['adi', 'cindy']\n"
     ]
    }
   ],
   "source": [
    "#slicing\n",
    "antrian_baru = antrian_indomaret2[1:3]\n",
    "print(antrian_baru)"
   ]
  },
  {
   "cell_type": "code",
   "execution_count": 27,
   "id": "9936b014-13d7-47c8-8331-87c4ead39c01",
   "metadata": {},
   "outputs": [
    {
     "name": "stdout",
     "output_type": "stream",
     "text": [
      "['adi', 'cindy', 'adi', 'cindy', 'adi', 'cindy']\n"
     ]
    }
   ],
   "source": [
    "#replication\n",
    "print(antrian_baru * 3)"
   ]
  },
  {
   "cell_type": "code",
   "execution_count": 28,
   "id": "355fbb3f-2f46-4118-8062-bd225a33beb2",
   "metadata": {},
   "outputs": [
    {
     "name": "stdout",
     "output_type": "stream",
     "text": [
      "['adi', 'cindy', 'herman']\n"
     ]
    }
   ],
   "source": [
    "# concatenate +\n",
    "print(antrian_baru + [\"herman\"])"
   ]
  },
  {
   "cell_type": "code",
   "execution_count": 29,
   "id": "756eb585-8a39-4a21-9f08-fa86eed04352",
   "metadata": {},
   "outputs": [
    {
     "name": "stdout",
     "output_type": "stream",
     "text": [
      "2\n"
     ]
    }
   ],
   "source": [
    "#len() --> length\n",
    "print(len(antrian_baru))"
   ]
  },
  {
   "cell_type": "code",
   "execution_count": 31,
   "id": "59bb525e-c45b-4014-973d-56dcb4e58624",
   "metadata": {},
   "outputs": [
    {
     "name": "stdout",
     "output_type": "stream",
     "text": [
      "35\n",
      "90\n"
     ]
    }
   ],
   "source": [
    "#min()\n",
    "#max()\n",
    "list_nilai = [50,60,90,35]\n",
    "print(min(list_nilai))\n",
    "print(max(list_nilai))"
   ]
  },
  {
   "cell_type": "markdown",
   "id": "1a2c54c6-fb8d-4268-a989-304d88dda065",
   "metadata": {},
   "source": [
    "## ubah satu elemen di list "
   ]
  },
  {
   "cell_type": "code",
   "execution_count": 32,
   "id": "36822efb-bfc0-4cb0-9db2-ff02095ad14b",
   "metadata": {},
   "outputs": [
    {
     "name": "stdout",
     "output_type": "stream",
     "text": [
      "['budi', 'adi', 'cindy']\n",
      "['budi', 'john', 'cindy']\n"
     ]
    }
   ],
   "source": [
    "print(antrian_indomaret)\n",
    "antrian_indomaret[1] = \"john\"\n",
    "print(antrian_indomaret)"
   ]
  },
  {
   "cell_type": "code",
   "execution_count": 33,
   "id": "f59a8cfc-f693-4ec1-bd37-cc80791ab99a",
   "metadata": {},
   "outputs": [
    {
     "name": "stdout",
     "output_type": "stream",
     "text": [
      "['budi', 'cindy']\n"
     ]
    }
   ],
   "source": [
    "del antrian_indomaret[1]\n",
    "print(antrian_indomaret)"
   ]
  },
  {
   "cell_type": "code",
   "execution_count": 34,
   "id": "ca4ba966-104f-4918-a8a9-09cac13f7982",
   "metadata": {},
   "outputs": [
    {
     "name": "stdout",
     "output_type": "stream",
     "text": [
      "['a', 'G', 'f']\n"
     ]
    }
   ],
   "source": [
    "antrian = ['a','b','c','d','e','f']\n",
    "antrian[1:5] = \"G\"\n",
    "print(antrian)"
   ]
  },
  {
   "cell_type": "markdown",
   "id": "7692b722-b7b3-404e-a833-eb87ae39b506",
   "metadata": {},
   "source": [
    "## Tuple\n",
    "tuple mirip dgn list, ada bbrp perbedaan :\n",
    "- tuples pakai ()\n",
    "- tuples tdk bs diubah"
   ]
  },
  {
   "cell_type": "code",
   "execution_count": 35,
   "id": "aae83887-77e8-4f00-a6f5-365f743e42c1",
   "metadata": {},
   "outputs": [
    {
     "name": "stdout",
     "output_type": "stream",
     "text": [
      "('a', 'b', 'c', 'd', 'e', 'f')\n",
      "b\n",
      "f\n"
     ]
    }
   ],
   "source": [
    "tuple_alfabet = ('a','b','c','d','e','f')\n",
    "print(tuple_alfabet)\n",
    "print(tuple_alfabet[1])\n",
    "print(tuple_alfabet[-1])"
   ]
  },
  {
   "cell_type": "code",
   "execution_count": 36,
   "id": "b4aa1fd1-1a90-44c8-a8c6-ceb7636a2b7b",
   "metadata": {},
   "outputs": [
    {
     "name": "stdout",
     "output_type": "stream",
     "text": [
      "4\n",
      "20\n",
      "70\n"
     ]
    }
   ],
   "source": [
    "tuple_nilai = (20,50,70,20)\n",
    "print(len(tuple_nilai))\n",
    "print(min(tuple_nilai))\n",
    "print(max(tuple_nilai))"
   ]
  },
  {
   "cell_type": "code",
   "execution_count": 37,
   "id": "a0fb34a7-f50c-47cc-a03a-416f7a018393",
   "metadata": {},
   "outputs": [
    {
     "name": "stdout",
     "output_type": "stream",
     "text": [
      "('a', 'b', 'c', 'd', 'e', 'f', 20, 50, 70, 20)\n"
     ]
    }
   ],
   "source": [
    "print(tuple_alfabet + tuple_nilai)"
   ]
  },
  {
   "cell_type": "code",
   "execution_count": 39,
   "id": "6f512d9c-139f-4c66-bf0c-f5e82c72eb49",
   "metadata": {},
   "outputs": [
    {
     "name": "stdout",
     "output_type": "stream",
     "text": [
      "('a', 'malam', 'a', 'malam', 'a', 'malam')\n"
     ]
    }
   ],
   "source": [
    "print((\"a\", \"malam\") * 3)"
   ]
  },
  {
   "cell_type": "code",
   "execution_count": 40,
   "id": "624794b3-be50-4477-ae02-d8eb048214fa",
   "metadata": {},
   "outputs": [
    {
     "name": "stdout",
     "output_type": "stream",
     "text": [
      "['a', 'b', 'c', 'd', 'e', 'f']\n"
     ]
    }
   ],
   "source": [
    "print(list(tuple_alfabet))"
   ]
  },
  {
   "cell_type": "code",
   "execution_count": 41,
   "id": "97270c96-b8f7-4204-8cf4-f59f212f885c",
   "metadata": {},
   "outputs": [
    {
     "name": "stdout",
     "output_type": "stream",
     "text": [
      "('budi', 'cindy')\n"
     ]
    }
   ],
   "source": [
    "print(tuple(antrian_indomaret))"
   ]
  },
  {
   "cell_type": "markdown",
   "id": "f6ba76e7-3c83-4c7e-9765-6e16e4178cd1",
   "metadata": {},
   "source": [
    "## Dictionary"
   ]
  },
  {
   "cell_type": "code",
   "execution_count": 44,
   "id": "f0fbccfc-88ac-498d-9e78-fee800bd149a",
   "metadata": {},
   "outputs": [
    {
     "name": "stdout",
     "output_type": "stream",
     "text": [
      "{'merk': 'avanza', 'warna': 'silver', 'jumlah_ban': 4, 'tipe': 'automatic'}\n"
     ]
    }
   ],
   "source": [
    "# buat dictionary pakai {}\n",
    "# isinya adalah key:value pair\n",
    "\n",
    "mobil = {\n",
    "    \"merk\": \"avanza\",\n",
    "    \"warna\": \"silver\",\n",
    "    \"jumlah_ban\": 4,\n",
    "    \"tipe\": \"automatic\"\n",
    "}\n",
    "\n",
    "print(mobil)"
   ]
  },
  {
   "cell_type": "code",
   "execution_count": 45,
   "id": "4e00cc95-c4bb-4627-9475-149f55e7719d",
   "metadata": {},
   "outputs": [
    {
     "name": "stdout",
     "output_type": "stream",
     "text": [
      "silver\n"
     ]
    }
   ],
   "source": [
    "print(mobil[\"warna\"])"
   ]
  },
  {
   "cell_type": "code",
   "execution_count": 46,
   "id": "7a978b94-cd0e-4c8c-b303-49ad6ccd93e4",
   "metadata": {},
   "outputs": [
    {
     "name": "stdout",
     "output_type": "stream",
     "text": [
      "{'merk': 'avanza', 'warna': 'silver', 'jumlah_ban': 4, 'tipe': 'automatic', 'warnavelg': ['hitam']}\n"
     ]
    }
   ],
   "source": [
    "mobil[\"warnavelg\"] = [\"hitam\"]\n",
    "print(mobil)"
   ]
  },
  {
   "cell_type": "code",
   "execution_count": 47,
   "id": "d76c097f-9a12-4bd6-aee3-e66384fdad1e",
   "metadata": {},
   "outputs": [
    {
     "name": "stdout",
     "output_type": "stream",
     "text": [
      "{'merk': 'avanza', 'warna': 'silver', 'jumlah_ban': 4, 'tipe': 'automatic', 'warnavelg': ['hitam'], 'tahun': 2016}\n"
     ]
    }
   ],
   "source": [
    "mobil[\"tahun\"] = 2016\n",
    "print(mobil)"
   ]
  },
  {
   "cell_type": "code",
   "execution_count": 48,
   "id": "ddba4fa2-65cb-459c-9bc8-55eea7ff2a5d",
   "metadata": {},
   "outputs": [
    {
     "name": "stdout",
     "output_type": "stream",
     "text": [
      "{'merk': 'avanza', 'warna': 'silver', 'tipe': 'automatic', 'warnavelg': ['hitam'], 'tahun': 2016}\n"
     ]
    }
   ],
   "source": [
    "del mobil[\"jumlah_ban\"]\n",
    "print(mobil)"
   ]
  },
  {
   "cell_type": "code",
   "execution_count": null,
   "id": "b8db73aa-acb8-4b12-bf3c-af4004a3d2bd",
   "metadata": {},
   "outputs": [],
   "source": []
  }
 ],
 "metadata": {
  "kernelspec": {
   "display_name": "Python 3",
   "language": "python",
   "name": "python3"
  },
  "language_info": {
   "codemirror_mode": {
    "name": "ipython",
    "version": 3
   },
   "file_extension": ".py",
   "mimetype": "text/x-python",
   "name": "python",
   "nbconvert_exporter": "python",
   "pygments_lexer": "ipython3",
   "version": "3.8.8"
  }
 },
 "nbformat": 4,
 "nbformat_minor": 5
}
