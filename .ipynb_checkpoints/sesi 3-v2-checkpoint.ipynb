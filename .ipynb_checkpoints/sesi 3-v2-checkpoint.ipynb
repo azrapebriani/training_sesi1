{
 "cells": [
  {
   "cell_type": "markdown",
   "id": "e582eb32-8a9b-4922-aa90-f8c3ce790266",
   "metadata": {},
   "source": [
    "# Pass by Reference VS Pass by Value"
   ]
  },
  {
   "cell_type": "code",
   "execution_count": 1,
   "id": "91e4208f-622d-4576-8227-4343c6b2cb7b",
   "metadata": {},
   "outputs": [
    {
     "name": "stdout",
     "output_type": "stream",
     "text": [
      "10\n"
     ]
    }
   ],
   "source": [
    "a = 10\n",
    "b = a\n",
    "b = 100\n",
    "\n",
    "def perkalian(num1,num2):\n",
    "    num1 = 10\n",
    "    return num1 * num2\n",
    "\n",
    "perkalian(a,a)\n",
    "print(a) # pass by value, krn data di dlm a bertipe simple"
   ]
  },
  {
   "cell_type": "code",
   "execution_count": 2,
   "id": "9166b25c-a142-4255-a81a-3f17b57fc3c6",
   "metadata": {},
   "outputs": [
    {
     "name": "stdout",
     "output_type": "stream",
     "text": [
      "['apel', 'pisang', 'jeruk', 'duku']\n"
     ]
    }
   ],
   "source": [
    "list_buah = [\"apel\",\"pisang\",\"jeruk\"]\n",
    "\n",
    "def nambah(l,b):\n",
    "    l.append(b)\n",
    "    \n",
    "nambah(list_buah,\"duku\")\n",
    "print(list_buah) # pass by reference, krn l hanya menunjuk ke rumahnya list_buah tp gak bikin rumah sendiri"
   ]
  },
  {
   "cell_type": "markdown",
   "id": "a1aa6995-6728-4797-bacb-fac176853ed9",
   "metadata": {},
   "source": [
    "tipe data list, tuple, dan dictionary akan kena pass by reference. Jadi saat data itu dipanggil, komputer bukannya bikin copyan data yg baru, dia malah me-refensi data awal."
   ]
  },
  {
   "cell_type": "code",
   "execution_count": 3,
   "id": "8b7be7c2-85e7-444b-8c98-44a5cb7094e4",
   "metadata": {},
   "outputs": [
    {
     "name": "stdout",
     "output_type": "stream",
     "text": [
      "['apel', 'pisang', 'jeruk', 'nangka']\n",
      "['apel', 'pisang', 'jeruk', 'nangka']\n"
     ]
    }
   ],
   "source": [
    "list_buah = [\"apel\",\"pisang\",\"jeruk\"]\n",
    "list_baru = list_buah\n",
    "list_baru.append(\"nangka\")\n",
    "print(list_buah)\n",
    "print(list_baru)"
   ]
  },
  {
   "cell_type": "code",
   "execution_count": 5,
   "id": "95088172-7fe9-4555-b030-857056d8a503",
   "metadata": {},
   "outputs": [
    {
     "name": "stdout",
     "output_type": "stream",
     "text": [
      "['duku', 'duku', 'duku']\n",
      "['apel', 'pisang', 'jeruk']\n"
     ]
    }
   ],
   "source": [
    "# teknik deep copy\n",
    "list_buah = [\"apel\",\"pisang\",\"jeruk\"]\n",
    "\n",
    "def nambah(l,b):\n",
    "    l_baru = []\n",
    "    for item in l:\n",
    "        l_baru.append(b)\n",
    "    print(l_baru)\n",
    "    \n",
    "nambah(list_buah,\"duku\")\n",
    "print(list_buah)"
   ]
  },
  {
   "cell_type": "code",
   "execution_count": 6,
   "id": "41fcbca9-989b-4305-9568-e48ad560aea7",
   "metadata": {},
   "outputs": [
    {
     "name": "stdout",
     "output_type": "stream",
     "text": [
      "selamat pagi adi\n"
     ]
    }
   ],
   "source": [
    "def hello(nama,waktu):\n",
    "    print(\"selamat\", waktu, nama)\n",
    "    \n",
    "hello(waktu = \"pagi\", nama = \"adi\")"
   ]
  },
  {
   "cell_type": "code",
   "execution_count": 8,
   "id": "e7b2f5af-21dc-4110-a1cd-cc90754f7acf",
   "metadata": {},
   "outputs": [
    {
     "name": "stdout",
     "output_type": "stream",
     "text": [
      "selamat malam adi\n",
      "selamat pagi wandi\n"
     ]
    }
   ],
   "source": [
    "def hello(nama,waktu = \"malam\"):\n",
    "    print(\"selamat\", waktu, nama)\n",
    "    \n",
    "hello(nama = \"adi\")\n",
    "hello(nama = \"wandi\", waktu = \"pagi\")"
   ]
  },
  {
   "cell_type": "code",
   "execution_count": 9,
   "id": "5b3b9df5-88c9-47e3-bc7d-4495e53da3f9",
   "metadata": {},
   "outputs": [
    {
     "name": "stdout",
     "output_type": "stream",
     "text": [
      "('adi', 'budi', 'cindy', 'erika')\n",
      "selamat sore adi\n",
      "selamat sore budi\n",
      "selamat sore cindy\n",
      "selamat sore erika\n"
     ]
    }
   ],
   "source": [
    "def hello(waktu,*nama):\n",
    "    print(nama)\n",
    "    for n in nama:\n",
    "        print(\"selamat\", waktu, n)\n",
    "        \n",
    "hello(\"sore\",\"adi\",\"budi\",\"cindy\",\"erika\")"
   ]
  },
  {
   "cell_type": "code",
   "execution_count": null,
   "id": "30ec2c47-b16a-429b-b65a-e9a770c7ceb3",
   "metadata": {},
   "outputs": [],
   "source": []
  }
 ],
 "metadata": {
  "kernelspec": {
   "display_name": "Python 3",
   "language": "python",
   "name": "python3"
  },
  "language_info": {
   "codemirror_mode": {
    "name": "ipython",
    "version": 3
   },
   "file_extension": ".py",
   "mimetype": "text/x-python",
   "name": "python",
   "nbconvert_exporter": "python",
   "pygments_lexer": "ipython3",
   "version": "3.8.8"
  }
 },
 "nbformat": 4,
 "nbformat_minor": 5
}
