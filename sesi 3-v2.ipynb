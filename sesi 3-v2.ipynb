{
 "cells": [
  {
   "cell_type": "markdown",
   "id": "e582eb32-8a9b-4922-aa90-f8c3ce790266",
   "metadata": {},
   "source": [
    "# Pass by Reference VS Pass by Value"
   ]
  },
  {
   "cell_type": "code",
   "execution_count": 1,
   "id": "91e4208f-622d-4576-8227-4343c6b2cb7b",
   "metadata": {},
   "outputs": [
    {
     "name": "stdout",
     "output_type": "stream",
     "text": [
      "10\n"
     ]
    }
   ],
   "source": [
    "a = 10\n",
    "b = a\n",
    "b = 100\n",
    "\n",
    "def perkalian(num1,num2):\n",
    "    num1 = 10\n",
    "    return num1 * num2\n",
    "\n",
    "perkalian(a,a)\n",
    "print(a) # pass by value, krn data di dlm a bertipe simple"
   ]
  },
  {
   "cell_type": "code",
   "execution_count": 2,
   "id": "9166b25c-a142-4255-a81a-3f17b57fc3c6",
   "metadata": {},
   "outputs": [
    {
     "name": "stdout",
     "output_type": "stream",
     "text": [
      "['apel', 'pisang', 'jeruk', 'duku']\n"
     ]
    }
   ],
   "source": [
    "list_buah = [\"apel\",\"pisang\",\"jeruk\"]\n",
    "\n",
    "def nambah(l,b):\n",
    "    l.append(b)\n",
    "    \n",
    "nambah(list_buah,\"duku\")\n",
    "print(list_buah) # pass by reference, krn l hanya menunjuk ke rumahnya list_buah tp gak bikin rumah sendiri"
   ]
  },
  {
   "cell_type": "markdown",
   "id": "a1aa6995-6728-4797-bacb-fac176853ed9",
   "metadata": {},
   "source": [
    "tipe data list, tuple, dan dictionary akan kena pass by reference. Jadi saat data itu dipanggil, komputer bukannya bikin copyan data yg baru, dia malah me-refensi data awal."
   ]
  },
  {
   "cell_type": "code",
   "execution_count": 3,
   "id": "8b7be7c2-85e7-444b-8c98-44a5cb7094e4",
   "metadata": {},
   "outputs": [
    {
     "name": "stdout",
     "output_type": "stream",
     "text": [
      "['apel', 'pisang', 'jeruk', 'nangka']\n",
      "['apel', 'pisang', 'jeruk', 'nangka']\n"
     ]
    }
   ],
   "source": [
    "list_buah = [\"apel\",\"pisang\",\"jeruk\"]\n",
    "list_baru = list_buah\n",
    "list_baru.append(\"nangka\")\n",
    "print(list_buah)\n",
    "print(list_baru)"
   ]
  },
  {
   "cell_type": "code",
   "execution_count": 5,
   "id": "95088172-7fe9-4555-b030-857056d8a503",
   "metadata": {},
   "outputs": [
    {
     "name": "stdout",
     "output_type": "stream",
     "text": [
      "['duku', 'duku', 'duku']\n",
      "['apel', 'pisang', 'jeruk']\n"
     ]
    }
   ],
   "source": [
    "# teknik deep copy\n",
    "list_buah = [\"apel\",\"pisang\",\"jeruk\"]\n",
    "\n",
    "def nambah(l,b):\n",
    "    l_baru = []\n",
    "    for item in l:\n",
    "        l_baru.append(b)\n",
    "    print(l_baru)\n",
    "    \n",
    "nambah(list_buah,\"duku\")\n",
    "print(list_buah)"
   ]
  },
  {
   "cell_type": "code",
   "execution_count": 6,
   "id": "41fcbca9-989b-4305-9568-e48ad560aea7",
   "metadata": {},
   "outputs": [
    {
     "name": "stdout",
     "output_type": "stream",
     "text": [
      "selamat pagi adi\n"
     ]
    }
   ],
   "source": [
    "def hello(nama,waktu):\n",
    "    print(\"selamat\", waktu, nama)\n",
    "    \n",
    "hello(waktu = \"pagi\", nama = \"adi\")"
   ]
  },
  {
   "cell_type": "code",
   "execution_count": 8,
   "id": "e7b2f5af-21dc-4110-a1cd-cc90754f7acf",
   "metadata": {},
   "outputs": [
    {
     "name": "stdout",
     "output_type": "stream",
     "text": [
      "selamat malam adi\n",
      "selamat pagi wandi\n"
     ]
    }
   ],
   "source": [
    "def hello(nama,waktu = \"malam\"):\n",
    "    print(\"selamat\", waktu, nama)\n",
    "    \n",
    "hello(nama = \"adi\")\n",
    "hello(nama = \"wandi\", waktu = \"pagi\")"
   ]
  },
  {
   "cell_type": "code",
   "execution_count": 9,
   "id": "5b3b9df5-88c9-47e3-bc7d-4495e53da3f9",
   "metadata": {},
   "outputs": [
    {
     "name": "stdout",
     "output_type": "stream",
     "text": [
      "('adi', 'budi', 'cindy', 'erika')\n",
      "selamat sore adi\n",
      "selamat sore budi\n",
      "selamat sore cindy\n",
      "selamat sore erika\n"
     ]
    }
   ],
   "source": [
    "def hello(waktu,*nama):\n",
    "    print(nama)\n",
    "    for n in nama:\n",
    "        print(\"selamat\", waktu, n)\n",
    "        \n",
    "hello(\"sore\",\"adi\",\"budi\",\"cindy\",\"erika\")"
   ]
  },
  {
   "cell_type": "markdown",
   "id": "8b986cac-bac6-4843-b82c-bccc0397966a",
   "metadata": {},
   "source": [
    "## lambda function"
   ]
  },
  {
   "cell_type": "code",
   "execution_count": 10,
   "id": "24eb2472-351d-4e9c-98bb-a74b6fff94dd",
   "metadata": {},
   "outputs": [],
   "source": [
    "x = lambda a1, a2, a3: a1 + a2 + a3"
   ]
  },
  {
   "cell_type": "code",
   "execution_count": 11,
   "id": "d4f8a3e7-8579-4059-b796-3400be288592",
   "metadata": {},
   "outputs": [
    {
     "data": {
      "text/plain": [
       "12"
      ]
     },
     "execution_count": 11,
     "metadata": {},
     "output_type": "execute_result"
    }
   ],
   "source": [
    "x(3,4,5)"
   ]
  },
  {
   "cell_type": "markdown",
   "id": "2dfbc23f-a8cf-4e5d-a9dd-49ff38518684",
   "metadata": {},
   "source": [
    "## scope variable"
   ]
  },
  {
   "cell_type": "code",
   "execution_count": 12,
   "id": "8c0835ef-ab34-4223-94e0-d4217b4537c8",
   "metadata": {},
   "outputs": [
    {
     "ename": "NameError",
     "evalue": "name 'num' is not defined",
     "output_type": "error",
     "traceback": [
      "\u001b[1;31m---------------------------------------------------------------------------\u001b[0m",
      "\u001b[1;31mNameError\u001b[0m                                 Traceback (most recent call last)",
      "\u001b[1;32m<ipython-input-12-b3d151e5d427>\u001b[0m in \u001b[0;36m<module>\u001b[1;34m\u001b[0m\n\u001b[0;32m      8\u001b[0m     \u001b[0mprint\u001b[0m\u001b[1;33m(\u001b[0m\u001b[1;34m\"hello\"\u001b[0m\u001b[1;33m,\u001b[0m\u001b[0mangka\u001b[0m\u001b[1;33m)\u001b[0m\u001b[1;33m\u001b[0m\u001b[1;33m\u001b[0m\u001b[0m\n\u001b[0;32m      9\u001b[0m \u001b[1;33m\u001b[0m\u001b[0m\n\u001b[1;32m---> 10\u001b[1;33m \u001b[0mhello1\u001b[0m\u001b[1;33m(\u001b[0m\u001b[1;33m)\u001b[0m\u001b[1;33m\u001b[0m\u001b[1;33m\u001b[0m\u001b[0m\n\u001b[0m\u001b[0;32m     11\u001b[0m \u001b[0mhello2\u001b[0m\u001b[1;33m(\u001b[0m\u001b[1;33m)\u001b[0m\u001b[1;33m\u001b[0m\u001b[1;33m\u001b[0m\u001b[0m\n\u001b[0;32m     12\u001b[0m \u001b[1;33m\u001b[0m\u001b[0m\n",
      "\u001b[1;32m<ipython-input-12-b3d151e5d427>\u001b[0m in \u001b[0;36mhello1\u001b[1;34m()\u001b[0m\n\u001b[0;32m      1\u001b[0m \u001b[1;32mdef\u001b[0m \u001b[0mhello1\u001b[0m\u001b[1;33m(\u001b[0m\u001b[1;33m)\u001b[0m\u001b[1;33m:\u001b[0m\u001b[1;33m\u001b[0m\u001b[1;33m\u001b[0m\u001b[0m\n\u001b[0;32m      2\u001b[0m     \u001b[0mnum1\u001b[0m \u001b[1;33m=\u001b[0m \u001b[1;36m10\u001b[0m\u001b[1;33m\u001b[0m\u001b[1;33m\u001b[0m\u001b[0m\n\u001b[1;32m----> 3\u001b[1;33m     \u001b[0mprint\u001b[0m\u001b[1;33m(\u001b[0m\u001b[1;34m\"hello\"\u001b[0m\u001b[1;33m,\u001b[0m \u001b[0mnum\u001b[0m\u001b[1;33m)\u001b[0m\u001b[1;33m\u001b[0m\u001b[1;33m\u001b[0m\u001b[0m\n\u001b[0m\u001b[0;32m      4\u001b[0m \u001b[1;33m\u001b[0m\u001b[0m\n\u001b[0;32m      5\u001b[0m \u001b[1;32mdef\u001b[0m \u001b[0mhello2\u001b[0m\u001b[1;33m(\u001b[0m\u001b[1;33m)\u001b[0m\u001b[1;33m:\u001b[0m\u001b[1;33m\u001b[0m\u001b[1;33m\u001b[0m\u001b[0m\n",
      "\u001b[1;31mNameError\u001b[0m: name 'num' is not defined"
     ]
    }
   ],
   "source": [
    "def hello1():\n",
    "    num1 = 10\n",
    "    print(\"hello\", num)\n",
    "\n",
    "def hello2():\n",
    "    angka = 2\n",
    "    print(num1) # error, tdk ada num1 di scope ini\n",
    "    print(\"hello\",angka)\n",
    "\n",
    "hello1()\n",
    "hello2()\n",
    "    "
   ]
  },
  {
   "cell_type": "code",
   "execution_count": 13,
   "id": "e0c521d7-369a-4a54-8872-442ffc856827",
   "metadata": {},
   "outputs": [],
   "source": [
    "global_nama = \"andhika\""
   ]
  },
  {
   "cell_type": "code",
   "execution_count": 14,
   "id": "97ced289-a44c-4850-8401-ae2060a89bb2",
   "metadata": {},
   "outputs": [
    {
     "name": "stdout",
     "output_type": "stream",
     "text": [
      "andhika\n"
     ]
    }
   ],
   "source": [
    "def hello3():\n",
    "    print(global_nama)\n",
    "    \n",
    "hello3()"
   ]
  },
  {
   "cell_type": "code",
   "execution_count": 16,
   "id": "9984959d-ae75-4eac-aba0-d58baffe107c",
   "metadata": {},
   "outputs": [
    {
     "name": "stdout",
     "output_type": "stream",
     "text": [
      "selamat pagi andhika\n",
      "selamat pagi andhika\n"
     ]
    }
   ],
   "source": [
    "def hello4(waktu):\n",
    "    print(\"selamat\",waktu,global_nama)\n",
    "#     global_nama = \"adi\"\n",
    "    lokal_nama = \"budi\"\n",
    "    print(\"selamat\", waktu, global_nama)\n",
    "    \n",
    "hello4(\"pagi\")"
   ]
  },
  {
   "cell_type": "code",
   "execution_count": 17,
   "id": "8389eb12-3d7b-44a7-a721-374e1b17fa8e",
   "metadata": {},
   "outputs": [
    {
     "name": "stdout",
     "output_type": "stream",
     "text": [
      "50\n"
     ]
    }
   ],
   "source": [
    "cat = 20\n",
    "\n",
    "def totalAnimal():\n",
    "    dog = 30\n",
    "    return cat + dog\n",
    "\n",
    "print(totalAnimal())"
   ]
  },
  {
   "cell_type": "markdown",
   "id": "6c834188-698d-4f78-a610-15d9a24408cc",
   "metadata": {},
   "source": [
    "# modules"
   ]
  },
  {
   "cell_type": "code",
   "execution_count": 18,
   "id": "6e7006dc-8e35-4488-9b35-168bbe756b83",
   "metadata": {},
   "outputs": [],
   "source": [
    "import math"
   ]
  },
  {
   "cell_type": "code",
   "execution_count": 19,
   "id": "f417404c-f73e-499a-901d-a60b16a6662d",
   "metadata": {},
   "outputs": [
    {
     "name": "stdout",
     "output_type": "stream",
     "text": [
      "3.141592653589793\n"
     ]
    },
    {
     "ename": "AttributeError",
     "evalue": "module 'math' has no attribute 'golden_ratio'",
     "output_type": "error",
     "traceback": [
      "\u001b[1;31m---------------------------------------------------------------------------\u001b[0m",
      "\u001b[1;31mAttributeError\u001b[0m                            Traceback (most recent call last)",
      "\u001b[1;32m<ipython-input-19-fa82862a1e10>\u001b[0m in \u001b[0;36m<module>\u001b[1;34m\u001b[0m\n\u001b[0;32m      1\u001b[0m \u001b[0mprint\u001b[0m\u001b[1;33m(\u001b[0m\u001b[0mmath\u001b[0m\u001b[1;33m.\u001b[0m\u001b[0mpi\u001b[0m\u001b[1;33m)\u001b[0m\u001b[1;33m\u001b[0m\u001b[1;33m\u001b[0m\u001b[0m\n\u001b[1;32m----> 2\u001b[1;33m \u001b[0mprint\u001b[0m\u001b[1;33m(\u001b[0m\u001b[0mmath\u001b[0m\u001b[1;33m.\u001b[0m\u001b[0mgolden_ratio\u001b[0m\u001b[1;33m)\u001b[0m\u001b[1;33m\u001b[0m\u001b[1;33m\u001b[0m\u001b[0m\n\u001b[0m",
      "\u001b[1;31mAttributeError\u001b[0m: module 'math' has no attribute 'golden_ratio'"
     ]
    }
   ],
   "source": [
    "print(math.pi)\n",
    "print(math.golden_ratio)"
   ]
  },
  {
   "cell_type": "code",
   "execution_count": 20,
   "id": "b486eca9-4d79-437c-9f13-68c181ae2739",
   "metadata": {},
   "outputs": [
    {
     "ename": "AttributeError",
     "evalue": "module 'math' has no attribute 'cekGenap'",
     "output_type": "error",
     "traceback": [
      "\u001b[1;31m---------------------------------------------------------------------------\u001b[0m",
      "\u001b[1;31mAttributeError\u001b[0m                            Traceback (most recent call last)",
      "\u001b[1;32m<ipython-input-20-7363f4936afb>\u001b[0m in \u001b[0;36m<module>\u001b[1;34m\u001b[0m\n\u001b[1;32m----> 1\u001b[1;33m \u001b[0mprint\u001b[0m\u001b[1;33m(\u001b[0m\u001b[0mmath\u001b[0m\u001b[1;33m.\u001b[0m\u001b[0mcekGenap\u001b[0m\u001b[1;33m(\u001b[0m\u001b[1;36m10\u001b[0m\u001b[1;33m)\u001b[0m\u001b[1;33m)\u001b[0m\u001b[1;33m\u001b[0m\u001b[1;33m\u001b[0m\u001b[0m\n\u001b[0m",
      "\u001b[1;31mAttributeError\u001b[0m: module 'math' has no attribute 'cekGenap'"
     ]
    }
   ],
   "source": [
    "print(math.cekGenap(10))"
   ]
  },
  {
   "cell_type": "code",
   "execution_count": 21,
   "id": "2283c0c9-640f-411d-ac87-45958b2a4e47",
   "metadata": {},
   "outputs": [
    {
     "data": {
      "text/plain": [
       "['C:\\\\Users\\\\BRI\\\\Pelatihan Phyton\\\\Sesi 1',\n",
       " 'C:\\\\Users\\\\BRI\\\\anaconda3\\\\python38.zip',\n",
       " 'C:\\\\Users\\\\BRI\\\\anaconda3\\\\DLLs',\n",
       " 'C:\\\\Users\\\\BRI\\\\anaconda3\\\\lib',\n",
       " 'C:\\\\Users\\\\BRI\\\\anaconda3',\n",
       " '',\n",
       " 'C:\\\\Users\\\\BRI\\\\anaconda3\\\\lib\\\\site-packages',\n",
       " 'C:\\\\Users\\\\BRI\\\\anaconda3\\\\lib\\\\site-packages\\\\locket-0.2.1-py3.8.egg',\n",
       " 'C:\\\\Users\\\\BRI\\\\anaconda3\\\\lib\\\\site-packages\\\\win32',\n",
       " 'C:\\\\Users\\\\BRI\\\\anaconda3\\\\lib\\\\site-packages\\\\win32\\\\lib',\n",
       " 'C:\\\\Users\\\\BRI\\\\anaconda3\\\\lib\\\\site-packages\\\\Pythonwin',\n",
       " 'C:\\\\Users\\\\BRI\\\\anaconda3\\\\lib\\\\site-packages\\\\IPython\\\\extensions',\n",
       " 'C:\\\\Users\\\\BRI\\\\.ipython']"
      ]
     },
     "execution_count": 21,
     "metadata": {},
     "output_type": "execute_result"
    }
   ],
   "source": [
    "import sys\n",
    "sys.path"
   ]
  },
  {
   "cell_type": "code",
   "execution_count": 3,
   "id": "bf649dc4-52d0-409c-a49b-ed508616d3f3",
   "metadata": {},
   "outputs": [
    {
     "ename": "NameError",
     "evalue": "name 'sys' is not defined",
     "output_type": "error",
     "traceback": [
      "\u001b[1;31m---------------------------------------------------------------------------\u001b[0m",
      "\u001b[1;31mNameError\u001b[0m                                 Traceback (most recent call last)",
      "\u001b[1;32m<ipython-input-3-3b113070e3c4>\u001b[0m in \u001b[0;36m<module>\u001b[1;34m\u001b[0m\n\u001b[1;32m----> 1\u001b[1;33m \u001b[0msys\u001b[0m\u001b[1;33m.\u001b[0m\u001b[0mpath\u001b[0m\u001b[1;33m.\u001b[0m\u001b[0mappend\u001b[0m\u001b[1;33m(\u001b[0m\u001b[1;34mr'C:\\\\Users\\BRI\\Dekstop\\mods'\u001b[0m\u001b[1;33m)\u001b[0m\u001b[1;33m\u001b[0m\u001b[1;33m\u001b[0m\u001b[0m\n\u001b[0m\u001b[0;32m      2\u001b[0m \u001b[0msys\u001b[0m\u001b[1;33m.\u001b[0m\u001b[0mpath\u001b[0m\u001b[1;33m\u001b[0m\u001b[1;33m\u001b[0m\u001b[0m\n",
      "\u001b[1;31mNameError\u001b[0m: name 'sys' is not defined"
     ]
    }
   ],
   "source": [
    "sys.path.append(r'C:\\\\Users\\BRI\\Dekstop\\mods')\n",
    "sys.path"
   ]
  },
  {
   "cell_type": "code",
   "execution_count": null,
   "id": "1c8c8ee4-9867-4f5c-8c24-4920639b9770",
   "metadata": {},
   "outputs": [],
   "source": []
  }
 ],
 "metadata": {
  "kernelspec": {
   "display_name": "Python 3",
   "language": "python",
   "name": "python3"
  },
  "language_info": {
   "codemirror_mode": {
    "name": "ipython",
    "version": 3
   },
   "file_extension": ".py",
   "mimetype": "text/x-python",
   "name": "python",
   "nbconvert_exporter": "python",
   "pygments_lexer": "ipython3",
   "version": "3.8.8"
  }
 },
 "nbformat": 4,
 "nbformat_minor": 5
}
